{
 "cells": [
  {
   "cell_type": "markdown",
   "metadata": {},
   "source": [
    "# ITERATION"
   ]
  },
  {
   "cell_type": "raw",
   "metadata": {},
   "source": [
    "#1 Max binary gap"
   ]
  },
  {
   "cell_type": "code",
   "execution_count": 53,
   "metadata": {},
   "outputs": [
    {
     "data": {
      "text/plain": [
       "2"
      ]
     },
     "execution_count": 53,
     "metadata": {},
     "output_type": "execute_result"
    }
   ],
   "source": [
    "def solution(N):\n",
    "    return len(max(format(N,'b').strip('0').split('1')))\n",
    "\n",
    "solution(9)   "
   ]
  },
  {
   "cell_type": "code",
   "execution_count": 50,
   "metadata": {},
   "outputs": [
    {
     "data": {
      "text/plain": [
       "'1001'"
      ]
     },
     "execution_count": 50,
     "metadata": {},
     "output_type": "execute_result"
    }
   ],
   "source": [
    "format(9,'b')"
   ]
  },
  {
   "cell_type": "markdown",
   "metadata": {},
   "source": [
    "# ARRAYS"
   ]
  },
  {
   "cell_type": "raw",
   "metadata": {},
   "source": [
    "#2 cyclic rotation"
   ]
  },
  {
   "cell_type": "code",
   "execution_count": 60,
   "metadata": {},
   "outputs": [
    {
     "data": {
      "text/plain": [
       "[4, 5, 6, 1, 2, 3]"
      ]
     },
     "execution_count": 60,
     "metadata": {},
     "output_type": "execute_result"
    }
   ],
   "source": [
    "def solution(A,K):\n",
    "    N = len(A)                       # 6              # of items in A\n",
    "    B =[0]*N                         # [0,0,0,0,0,0]  # empty list same length as A\n",
    "    for i in range(N):               # iterates through array and reassigns new index\n",
    "        B[i] = A[(i-K)%N]            # number to each item in B,by subtracting K and dividing\n",
    "    return B                         # by length of A for the remainder to get new index. \n",
    "                                     # [3,4,5,0,1,2]--> this is the new index arrangement for B\n",
    "A = [1,2,3,4,5,6]\n",
    "K = 3\n",
    "\n",
    "solution(A,K)"
   ]
  },
  {
   "cell_type": "raw",
   "metadata": {},
   "source": [
    "# 3 Oddd occurences--Unique elements using xor^"
   ]
  },
  {
   "cell_type": "code",
   "execution_count": 92,
   "metadata": {},
   "outputs": [
    {
     "data": {
      "text/plain": [
       "7"
      ]
     },
     "execution_count": 92,
     "metadata": {},
     "output_type": "execute_result"
    }
   ],
   "source": [
    "def solution (A):\n",
    "    odd=0\n",
    "    for i in A:\n",
    "        odd = odd ^ i\n",
    "    return odd \n",
    "        \n",
    "A= [9,3,9,3,9,7,9]\n",
    "solution(A)"
   ]
  },
  {
   "cell_type": "code",
   "execution_count": null,
   "metadata": {},
   "outputs": [],
   "source": [
    "A[0] = 9  A[1] = 3  A[2] = 9\n",
    "  A[3] = 3  A[4] = 9  A[5] = 7\n",
    "  A[6] = 9"
   ]
  },
  {
   "cell_type": "code",
   "execution_count": 91,
   "metadata": {},
   "outputs": [
    {
     "name": "stdout",
     "output_type": "stream",
     "text": [
      "5\n"
     ]
    }
   ],
   "source": [
    "# Python program to find the element occurring odd number of times \n",
    "  \n",
    "def getOddOccurrence(arr): \n",
    "  \n",
    "    # Initialize result \n",
    "    res = 0\n",
    "      \n",
    "    # Traverse the array \n",
    "    for element in arr: \n",
    "        # XOR with the result \n",
    "        res = res ^ element \n",
    "  \n",
    "    return res \n",
    "  \n",
    "# Test array \n",
    "arr = [ 2, 3, 5, 4, 5, 2, 4, 3, 5, 2, 4, 4, 2] \n",
    "  \n",
    "print(\"%d\" % getOddOccurrence(arr)) \n"
   ]
  },
  {
   "cell_type": "markdown",
   "metadata": {},
   "source": [
    "# TIME COMPLEXITY"
   ]
  },
  {
   "cell_type": "raw",
   "metadata": {},
   "source": [
    "# 4 Frog jmp----  (Y-X)/D = (85-10)/30 = 3\n",
    "\n",
    "A small frog wants to get to the other side of the road. The frog is currently located at position X and wants to get to a position greater than or equal to Y. The small frog always jumps a fixed distance, D.\n",
    "\n",
    "Count the minimal number of jumps that the small frog must perform to reach its target.\n",
    "\n",
    "Write a function:\n",
    "\n",
    "def solution(X, Y, D)\n",
    "\n",
    "that, given three integers X, Y and D, returns the minimal number of jumps from position X to a position equal to or greater than Y.\n",
    "\n",
    "For example, given:\n",
    "\n",
    "  X = 10\n",
    "  Y = 85\n",
    "  D = 30\n",
    "  the function should return 3"
   ]
  },
  {
   "cell_type": "code",
   "execution_count": 105,
   "metadata": {},
   "outputs": [
    {
     "data": {
      "text/plain": [
       "3"
      ]
     },
     "execution_count": 105,
     "metadata": {},
     "output_type": "execute_result"
    }
   ],
   "source": [
    "def solution(X,Y,D):\n",
    "    distance = Y-X                 # fixed operation\n",
    "    if distance % D == 0:          # floor division rounds down,\n",
    "        return distance //D        # so 1 must be added if remainder,\n",
    "    else:                          # is not equal to 0.\n",
    "        return distance //D+1\n",
    "\n",
    "solution(10,85,30)"
   ]
  },
  {
   "cell_type": "code",
   "execution_count": 104,
   "metadata": {},
   "outputs": [
    {
     "data": {
      "text/plain": [
       "3"
      ]
     },
     "execution_count": 104,
     "metadata": {},
     "output_type": "execute_result"
    }
   ],
   "source": [
    "import math\n",
    "def solution(X,Y,D):\n",
    "    distance = Y-X\n",
    "    return math.ceil(distance/D)\n",
    "\n",
    "solution(10,85,30)"
   ]
  },
  {
   "cell_type": "raw",
   "metadata": {},
   "source": [
    "#5 Perm Missing Element----missing integer in permutation array\n",
    "\n",
    "    Write a function:\n",
    "\n",
    "def solution(a)\n",
    "\n",
    "that, given an array A, returns the value of the missing element.\n",
    "\n",
    "For example, given array A such that:\n",
    "\n",
    "  A[0] = 2\n",
    "  A[1] = 3\n",
    "  A[2] = 1\n",
    "  A[3] = 5\n",
    "the function should return 4, as it is the missing element."
   ]
  },
  {
   "cell_type": "code",
   "execution_count": 109,
   "metadata": {},
   "outputs": [
    {
     "data": {
      "text/plain": [
       "4"
      ]
     },
     "execution_count": 109,
     "metadata": {},
     "output_type": "execute_result"
    }
   ],
   "source": [
    "def solution(A):\n",
    "    return min(set(range(1,len(A)+2)).difference(set(A)))\n",
    "    \n",
    "A = [2,3,1,5]\n",
    "\n",
    "solution(A)"
   ]
  },
  {
   "cell_type": "raw",
   "metadata": {},
   "source": [
    "#6 Tape Equilibrium ---> the absolute difference between the sum of the first part and the sum of the second part."
   ]
  },
  {
   "cell_type": "code",
   "execution_count": 101,
   "metadata": {},
   "outputs": [
    {
     "data": {
      "text/plain": [
       "1"
      ]
     },
     "execution_count": 101,
     "metadata": {},
     "output_type": "execute_result"
    }
   ],
   "source": [
    "def solution(A):\n",
    "    left, right = 0, sum(A)\n",
    "    best = float('Inf')\n",
    "   \n",
    "    for num in A[:-1]:\n",
    "        left += num\n",
    "        right -= num\n",
    "        best = min(best, abs(left-right))\n",
    "    \n",
    "    return best\n",
    "\n",
    "A =[3,1,2,4,3]\n",
    "\n",
    "solution(A)"
   ]
  },
  {
   "cell_type": "raw",
   "metadata": {},
   "source": [
    "A[0] = 3             P1 |(3-10) 7   # divides string into 4 parts to find min abs of left and right side. \n",
    "  A[1] = 1           P2 |(4 -9) 5\n",
    "  A[2] = 2           P3 |(6 -7) 1\n",
    "  A[3] = 4           P4 |(10-3) 7\n",
    "  A[4] = 3           \n",
    "the function should return 1. "
   ]
  },
  {
   "cell_type": "markdown",
   "metadata": {},
   "source": [
    "# COUNTING ELEMENTS"
   ]
  },
  {
   "cell_type": "raw",
   "metadata": {},
   "source": [
    "#7 Frog River One ---> Permutation before x ie. if x=5 then [1,2,3,4,5] the 1-4 is the permutation\n",
    "\n",
    "    For example, you are given integer X = 5 and array A such that:\n",
    "\n",
    "  A[0] = 1\n",
    "  A[1] = 3\n",
    "  A[2] = 1\n",
    "  A[3] = 4\n",
    "  A[4] = 2\n",
    "  A[5] = 3\n",
    "  A[6] = 5\n",
    "  A[7] = 4\n",
    "In second 6, a leaf falls into position 5. This is the earliest time when leaves appear in every position across the river."
   ]
  },
  {
   "cell_type": "code",
   "execution_count": 7,
   "metadata": {},
   "outputs": [
    {
     "data": {
      "text/plain": [
       "6"
      ]
     },
     "execution_count": 7,
     "metadata": {},
     "output_type": "execute_result"
    }
   ],
   "source": [
    "X = 5\n",
    "A = [1,3,1,4,2,3,5,4]\n",
    "\n",
    "def solution(X,A):\n",
    "    pos = set()                    # create an empty set\n",
    "    for i, j in enumerate(A):      # loops through adding elements into a set,\n",
    "        pos.add(j)                 # incrementing until it hits max elements\n",
    "        if len(pos) == X:          # if len set pos is equal to len of x,\n",
    "            return i               # returns index it is equal to, \n",
    "    return -1                      # if its not possible returns -1\n",
    "\n",
    "\n",
    "solution(X,A)"
   ]
  },
  {
   "cell_type": "raw",
   "metadata": {},
   "source": [
    "#8 Max Counters --keeps track of # of each num in array as it is counted\n",
    "\n",
    "    You are given N counters, initially set to 0, and you have two possible operations on them:\n",
    "\n",
    "increase(X) − counter X is increased by 1,\n",
    "max counter − all counters are set to the maximum value of any counter.\n",
    "A non-empty array A of M integers is given. This array represents consecutive operations:\n",
    "\n",
    "if A[K] = X, such that 1 ≤ X ≤ N, then operation K is increase(X),\n",
    "if A[K] = N + 1 then operation K is max counter.\n",
    "\n",
    "    For example, given:\n",
    "\n",
    "    A[0] = 3\n",
    "    A[1] = 4\n",
    "    A[2] = 4\n",
    "    A[3] = 6\n",
    "    A[4] = 1\n",
    "    A[5] = 4\n",
    "    A[6] = 4\n",
    "the function should return [3, 2, 2, 4, 2]"
   ]
  },
  {
   "cell_type": "code",
   "execution_count": 22,
   "metadata": {},
   "outputs": [
    {
     "name": "stdout",
     "output_type": "stream",
     "text": [
      "[3, 2, 2, 4, 2]\n"
     ]
    }
   ],
   "source": [
    "def solution(N,A):\n",
    "    counters = [0]*N\n",
    "    max_1 = 0\n",
    "    max_2 = 0\n",
    "    for x in A:\n",
    "        if 1 <= x <=N:\n",
    "            if max_1 > counters[x-1]:\n",
    "                counters[x-1] = max_1\n",
    "            counters [x-1] += 1\n",
    "            if max_2 < counters[x-1]:\n",
    "                max_2 = counters[x-1]\n",
    "        else:\n",
    "            max_1 = max_2\n",
    "    counters = [max(max_1, i) for i in counters]\n",
    "    return counters\n",
    "    \n",
    "A = [3,4,4,6,1,4,4]\n",
    "N = 5\n",
    "print(solution(N,A))"
   ]
  },
  {
   "cell_type": "raw",
   "metadata": {},
   "source": [
    "#9 Missing integer --- missing integer in permutation\n",
    "\n",
    " given an array A of N integers, returns the smallest positive integer (greater than 0) that does not occur in A.\n",
    "\n",
    "For example, given A = [1, 3, 6, 4, 1, 2], the function should return 5."
   ]
  },
  {
   "cell_type": "code",
   "execution_count": 24,
   "metadata": {},
   "outputs": [
    {
     "data": {
      "text/plain": [
       "5"
      ]
     },
     "execution_count": 24,
     "metadata": {},
     "output_type": "execute_result"
    }
   ],
   "source": [
    "def solution(A):\n",
    "    return min(set(range(1,len(A)+2)).difference(set(A)))\n",
    "\n",
    "A = [1,3,6,4,1,2]\n",
    "solution(A)"
   ]
  },
  {
   "cell_type": "raw",
   "metadata": {},
   "source": [
    "Perm Check --- Check if array is Permutation or not\n",
    "\n",
    "    Write a function:\n",
    "\n",
    "def solution(A)\n",
    "\n",
    "that, given an array A, returns 1 if array A is a permutation and 0 if it is not.\n",
    "\n",
    "For example, given array A such that:\n",
    "\n",
    "    A[0] = 4\n",
    "    A[1] = 1\n",
    "    A[2] = 3\n",
    "    A[3] = 2\n",
    "the function should return 1.\n",
    "\n",
    "Given array A such that:\n",
    "\n",
    "    A[0] = 4\n",
    "    A[1] = 1\n",
    "    A[2] = 3\n",
    "the function should return 0."
   ]
  },
  {
   "cell_type": "code",
   "execution_count": 27,
   "metadata": {},
   "outputs": [
    {
     "name": "stdout",
     "output_type": "stream",
     "text": [
      "1\n",
      "0\n"
     ]
    }
   ],
   "source": [
    "def solution(A):\n",
    "    return 1 if (set(A) == set(range(1,len(A)+1)))else 0\n",
    "\n",
    "print(solution(A=[4,1,3,2]))\n",
    "print(solution(A=[4,1,3]))"
   ]
  },
  {
   "cell_type": "markdown",
   "metadata": {},
   "source": [
    "# PREFIX SUMS"
   ]
  },
  {
   "cell_type": "raw",
   "metadata": {},
   "source": [
    "# 11 Count DIV \n",
    "\n",
    "    Write a function:\n",
    "\n",
    "def solution(A, B, K)\n",
    "\n",
    "that, given three integers A, B and K, returns the number of integers within the range [A..B] that are divisible by K, i.e.:\n",
    "\n",
    "{ i : A ≤ i ≤ B, i mod K = 0 }\n",
    "\n",
    "For example, for A = 6, B = 11 and K = 2, your function should return 3, because there are three numbers divisible by 2 within the range [6..11], namely 6, 8 and 10."
   ]
  },
  {
   "cell_type": "code",
   "execution_count": 31,
   "metadata": {},
   "outputs": [
    {
     "data": {
      "text/plain": [
       "3"
      ]
     },
     "execution_count": 31,
     "metadata": {},
     "output_type": "execute_result"
    }
   ],
   "source": [
    "def solution(A,B,K):\n",
    "    if A % K == 0:\n",
    "        return(B-A)//K+1\n",
    "    if A % K > 0:\n",
    "        return(B-(A - A % K))//K\n",
    "    \n",
    "\n",
    "solution(6,11,2)"
   ]
  },
  {
   "cell_type": "code",
   "execution_count": 32,
   "metadata": {},
   "outputs": [
    {
     "data": {
      "text/plain": [
       "3"
      ]
     },
     "execution_count": 32,
     "metadata": {},
     "output_type": "execute_result"
    }
   ],
   "source": [
    "import math\n",
    "def solution(A,B,K):\n",
    "    return math.floor(B/K) - math.ceil(A/K)+1\n",
    "\n",
    "solution(6,11,2)"
   ]
  },
  {
   "cell_type": "raw",
   "metadata": {},
   "source": [
    "#12 Geonomic Range Query\n",
    "\n",
    "    A DNA sequence can be represented as a string consisting of the letters A, C, G and T, which correspond to the types of successive nucleotides in the sequence. Each nucleotide has an impact factor, which is an integer. Nucleotides of types A, C, G and T have impact factors of 1, 2, 3 and 4, respectively. You are going to answer several queries of the form: What is the minimal impact factor of nucleotides contained in a particular part of the given DNA sequence?\n",
    "\n",
    "The DNA sequence is given as a non-empty string S = S[0]S[1]...S[N-1] consisting of N characters. There are M queries, which are given in non-empty arrays P and Q, each consisting of M integers. The K-th query (0 ≤ K < M) requires you to find the minimal impact factor of nucleotides contained in the DNA sequence between positions P[K] and Q[K] (inclusive).\n",
    "\n",
    "For example, consider string S = CAGCCTA and arrays P, Q such that:\n",
    "\n",
    "    P[0] = 2    Q[0] = 4\n",
    "    P[1] = 5    Q[1] = 5\n",
    "    P[2] = 0    Q[2] = 6\n",
    "The answers to these M = 3 queries are as follows:\n",
    "\n",
    "The part of the DNA between positions 2 and 4 contains nucleotides G and C (twice), whose impact factors are 3 and 2 respectively, so the answer is 2.\n",
    "The part between positions 5 and 5 contains a single nucleotide T, whose impact factor is 4, so the answer is 4.\n",
    "The part between positions 0 and 6 (the whole string) contains all nucleotides, in particular nucleotide A whose impact factor is 1, so the answer is 1.\n",
    "Write a function:\n",
    "\n",
    "class Solution { public int[] solution(String S, int[] P, int[] Q); }\n",
    "\n",
    "that, given a non-empty string S consisting of N characters and two non-empty arrays P and Q consisting of M integers, returns an array consisting of M integers specifying the consecutive answers to all queries.\n",
    "\n",
    "Result array should be returned as an array of integers.\n",
    "\n",
    "For example, given the string S = CAGCCTA and arrays P, Q such that:\n",
    "\n",
    "    P[0] = 2    Q[0] = 4\n",
    "    P[1] = 5    Q[1] = 5\n",
    "    P[2] = 0    Q[2] = 6\n",
    "the function should return the values [2, 4, 1], as explained above."
   ]
  },
  {
   "cell_type": "code",
   "execution_count": 58,
   "metadata": {},
   "outputs": [
    {
     "name": "stdout",
     "output_type": "stream",
     "text": [
      "GCC\n",
      "T\n",
      "CAGCCTA\n"
     ]
    },
    {
     "data": {
      "text/plain": [
       "[2, 4, 1]"
      ]
     },
     "execution_count": 58,
     "metadata": {},
     "output_type": "execute_result"
    }
   ],
   "source": [
    "def solution(S,P,Q):\n",
    "    result = []\n",
    "    length = len(P)\n",
    "    for i in range(length):\n",
    "        slice = (S[P[i]:Q[i]+1])       # slice starts at index in P and ends with Index in Q plus 1 to include noted index.\n",
    "        print(slice)                   # Last letter of slice returns # necessary to acheive answer array number. \n",
    "        if \"A\" in slice:               # print slice shows each one of the slices... \n",
    "            result.append(1)           # \n",
    "        elif \"C\" in slice:             # The part of the DNA between positions 2 and 4 contains nucleotides G and C (twice),                 \n",
    "            result.append(2)           # whose impact factors are 3 and 2 respectively, so the answer is 2. \n",
    "        elif \"G\" in slice:             #\n",
    "            result.append(3)           # The part between positions 5 and 5 contains a single nucleotide T,               \n",
    "        elif \"T\" in slice:             # whose impact factor is 4, so the answer is 4.  \n",
    "            result.append(4)           # \n",
    "    return result                      # The part between positions 0 and 6 (the whole string) contains all nucleotides,\n",
    "                                       # in particular nucleotide A whose impact factor is 1, so the answer is 1.\n",
    "               \n",
    "\n",
    "S = 'CAGCCTA'\n",
    "P = [2,5,0]\n",
    "Q = [4,5,6]\n",
    "\n",
    "solution(S,P,Q)"
   ]
  },
  {
   "cell_type": "raw",
   "metadata": {},
   "source": [
    "#13 Min Ave Two Slice --\n",
    "\n",
    "    A non-empty array A consisting of N integers is given. A pair of integers (P, Q), such that 0 ≤ P < Q < N, is called a slice of array A (notice that the slice contains at least two elements). The average of a slice (P, Q) is the sum of A[P] + A[P + 1] + ... + A[Q] divided by the length of the slice. To be precise, the average equals (A[P] + A[P + 1] + ... + A[Q]) / (Q − P + 1).\n",
    "\n",
    "For example, array A such that:\n",
    "\n",
    "    A[0] = 4\n",
    "    A[1] = 2\n",
    "    A[2] = 2\n",
    "    A[3] = 5\n",
    "    A[4] = 1\n",
    "    A[5] = 5\n",
    "    A[6] = 8\n",
    "contains the following example slices:\n",
    "\n",
    "slice (1, 2), whose average is (2 + 2) / 2 = 2;\n",
    "slice (3, 4), whose average is (5 + 1) / 2 = 3;\n",
    "slice (1, 4), whose average is (2 + 2 + 5 + 1) / 4 = 2.5.\n",
    "The goal is to find the starting position of a slice whose average is minimal."
   ]
  },
  {
   "cell_type": "code",
   "execution_count": 61,
   "metadata": {},
   "outputs": [
    {
     "data": {
      "text/plain": [
       "1"
      ]
     },
     "execution_count": 61,
     "metadata": {},
     "output_type": "execute_result"
    }
   ],
   "source": [
    "def solution(A):\n",
    "    n = len(A)\n",
    "    mi = 0\n",
    "    cm = max(A)\n",
    "    for idx in range(0,n-1):\n",
    "        p = (A[idx] + A[idx + 1])/2.0\n",
    "        if p < cm:\n",
    "            mi = idx\n",
    "            cm = p\n",
    "        if idx < n-2:\n",
    "            t = (A[idx] + A[idx + 1] + A[idx + 2])/3.0\n",
    "            if t < cm:\n",
    "                mi = idx\n",
    "                cm = t\n",
    "    return mi\n",
    "            \n",
    "            \n",
    "A = [4,2,2,5,1,5,8]           \n",
    "solution(A)"
   ]
  },
  {
   "cell_type": "raw",
   "metadata": {},
   "source": [
    "#14 Passing Cars \n",
    "\n",
    "    given a non-empty array A of N integers, returns the number of pairs of passing cars.\n",
    "\n",
    "The function should return −1 if the number of pairs of passing cars exceeds 1,000,000,000.\n",
    "\n",
    "For example, given:\n",
    "\n",
    "  A[0] = 0\n",
    "  A[1] = 1\n",
    "  A[2] = 0\n",
    "  A[3] = 1\n",
    "  A[4] = 1\n",
    "the function should return 5, as explained above.\n",
    "\n",
    "takes each 0 adds 1 for each to fz. takes each 1 and adds it to fz"
   ]
  },
  {
   "cell_type": "code",
   "execution_count": 70,
   "metadata": {},
   "outputs": [
    {
     "data": {
      "text/plain": [
       "5"
      ]
     },
     "execution_count": 70,
     "metadata": {},
     "output_type": "execute_result"
    }
   ],
   "source": [
    "def solution(A):\n",
    "    pc = 0\n",
    "    fz = 0\n",
    "    for e in A:\n",
    "        if pc > 1000000000:\n",
    "            return -1\n",
    "        if e == 0:\n",
    "            fz += 1\n",
    "        else:\n",
    "            pc += fz\n",
    "        \n",
    "    return pc\n",
    "\n",
    "A = [0,1,0,1,1]\n",
    "solution(A)\n"
   ]
  },
  {
   "cell_type": "markdown",
   "metadata": {},
   "source": [
    "# SORTING"
   ]
  },
  {
   "cell_type": "raw",
   "metadata": {},
   "source": [
    "#15 Distinct ---compute number of distinct(one-of-a-kind) values in an array"
   ]
  },
  {
   "cell_type": "code",
   "execution_count": null,
   "metadata": {},
   "outputs": [],
   "source": [
    "def solution(A):          # organizes array into a set that omits all duplicates in the array.\n",
    "    x = set(A)\n",
    "    return len(x)"
   ]
  },
  {
   "cell_type": "raw",
   "metadata": {},
   "source": [
    "#16 Max Product of Three ----Maximize A[P] * A[Q] * A[R] for any triplet (P, Q, R).\n",
    "\n",
    "    A non-empty array A consisting of N integers is given. The product of triplet (P, Q, R) equates to A[P] * A[Q] * A[R] (0 ≤ P < Q < R < N).\n",
    "\n",
    "For example, array A such that:\n",
    "\n",
    "  A[0] = -3\n",
    "  A[1] = 1\n",
    "  A[2] = 2\n",
    "  A[3] = -2\n",
    "  A[4] = 5\n",
    "  A[5] = 6\n",
    "contains the following example triplets:\n",
    "\n",
    "(0, 1, 2), product is −3 * 1 * 2 = −6\n",
    "(1, 2, 4), product is 1 * 2 * 5 = 10\n",
    "(2, 4, 5), product is 2 * 5 * 6 = 60\n",
    "Your goal is to find the maximal product of any triplet.\n",
    "\n",
    "the function should return 60, as the product of triplet (2, 4, 5) is maximal."
   ]
  },
  {
   "cell_type": "code",
   "execution_count": 71,
   "metadata": {},
   "outputs": [
    {
     "data": {
      "text/plain": [
       "60"
      ]
     },
     "execution_count": 71,
     "metadata": {},
     "output_type": "execute_result"
    }
   ],
   "source": [
    "def solution(A):\n",
    "    A.sort()\n",
    "    return max(A[0]*A[1]*A[-1], A[-1]*A[-2]*A[-3])\n",
    "\n",
    "A = [-3,1,2,-2,5,6]\n",
    "solution(A)"
   ]
  },
  {
   "cell_type": "raw",
   "metadata": {},
   "source": [
    "#17 Num Disc Intersections\n",
    "\n",
    "    We draw N discs on a plane. The discs are numbered from 0 to N − 1. An array A of N non-negative integers, specifying the radiuses of the discs, is given. The J-th disc is drawn with its center at (J, 0) and radius A[J].\n",
    "\n",
    "We say that the J-th disc and K-th disc intersect if J ≠ K and the J-th and K-th discs have at least one common point (assuming that the discs contain their borders).\n",
    "\n",
    "The figure below shows discs drawn for N = 6 and A as follows:\n",
    "\n",
    "  A[0] = 1\n",
    "  A[1] = 5\n",
    "  A[2] = 2\n",
    "  A[3] = 1\n",
    "  A[4] = 4\n",
    "  A[5] = 0\n",
    "\n",
    "\n",
    "There are eleven (unordered) pairs of discs that intersect, namely:\n",
    "\n",
    "discs 1 and 4 intersect, and both intersect with all the other discs;\n",
    "disc 2 also intersects with discs 0 and 3.\n",
    "Write a function:\n",
    "\n",
    "def solution(A)\n",
    "\n",
    "that, given an array A describing N discs as explained above, returns the number of (unordered) pairs of intersecting discs. The function should return −1 if the number of intersecting pairs exceeds 10,000,000.\n",
    "\n",
    "Given array A shown above, the function should return 11, as explained above."
   ]
  },
  {
   "cell_type": "code",
   "execution_count": 82,
   "metadata": {},
   "outputs": [
    {
     "data": {
      "text/plain": [
       "11"
      ]
     },
     "execution_count": 82,
     "metadata": {},
     "output_type": "execute_result"
    }
   ],
   "source": [
    "def solution(A):\n",
    "    e = []\n",
    "    for i, a in enumerate(A):\n",
    "        e += [(i-a,1),(i+a,0)]\n",
    "    e.sort(key=lambda x:(x[0], not x[1]))\n",
    "    c = 0\n",
    "    ac = 0\n",
    "    \n",
    "    for _, start in e:\n",
    "        if start:\n",
    "            c += ac\n",
    "            ac += 1\n",
    "        else:\n",
    "            ac -= 1\n",
    "        if c > 1000000000:\n",
    "            return -1\n",
    "    return c\n",
    "\n",
    "A = [1,5,2,1,4,0]\n",
    "solution(A)\n",
    "    "
   ]
  },
  {
   "cell_type": "raw",
   "metadata": {},
   "source": [
    "#18 Triangle------sort 1st then determine  if A[i] + A[i+1] > A[i+2]\n",
    "                  can make a triangle    L     0   +    1   >    2\n",
    "                  \n",
    "                  \n",
    "    An array A consisting of N integers is given. A triplet (P, Q, R) is triangular if 0 ≤ P < Q < R < N and:\n",
    "\n",
    "A[P] + A[Q] > A[R],\n",
    "A[Q] + A[R] > A[P],\n",
    "A[R] + A[P] > A[Q].\n",
    "For example, consider array A such that:\n",
    "\n",
    "  A[0] = 10    A[1] = 2    A[2] = 5\n",
    "  A[3] = 1     A[4] = 8    A[5] = 20\n",
    "Triplet (0, 2, 4) is triangular.\n",
    "\n",
    "Write a function:\n",
    "\n",
    "class Solution { public int solution(int[] A); }\n",
    "\n",
    "that, given an array A consisting of N integers, returns 1 if there exists a triangular triplet for this array and returns 0 otherwise.\n",
    "\n",
    "For example, given array A such that:\n",
    "\n",
    "  A[0] = 10    A[1] = 2    A[2] = 5\n",
    "  A[3] = 1     A[4] = 8    A[5] = 20\n",
    "the function should return 1, as explained above. Given array A such that:\n",
    "\n",
    "  A[0] = 10    A[1] = 50    A[2] = 5\n",
    "  A[3] = 1\n",
    "the function should return 0."
   ]
  },
  {
   "cell_type": "code",
   "execution_count": 92,
   "metadata": {},
   "outputs": [
    {
     "name": "stdout",
     "output_type": "stream",
     "text": [
      "1\n",
      "0\n"
     ]
    }
   ],
   "source": [
    "def solution(A):\n",
    "    A.sort()\n",
    "    for i in range(0,len(A)-2):\n",
    "        if A[i] + A[i+1] > A[i+2]:\n",
    "            return 1\n",
    "    else:\n",
    "        return 0\n",
    "        \n",
    "A = [10,2,5,1,8,20]\n",
    "B =[10,50,5,1]\n",
    "\n",
    "print(solution(A))\n",
    "print(solution(B))"
   ]
  },
  {
   "cell_type": "code",
   "execution_count": null,
   "metadata": {},
   "outputs": [],
   "source": []
  }
 ],
 "metadata": {
  "kernelspec": {
   "display_name": "Python 3",
   "language": "python",
   "name": "python3"
  },
  "language_info": {
   "codemirror_mode": {
    "name": "ipython",
    "version": 3
   },
   "file_extension": ".py",
   "mimetype": "text/x-python",
   "name": "python",
   "nbconvert_exporter": "python",
   "pygments_lexer": "ipython3",
   "version": "3.7.7"
  }
 },
 "nbformat": 4,
 "nbformat_minor": 4
}
